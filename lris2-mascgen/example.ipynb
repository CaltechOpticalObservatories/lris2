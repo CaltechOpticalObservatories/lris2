{
 "cells": [
  {
   "cell_type": "code",
   "id": "initial_id",
   "metadata": {
    "collapsed": true,
    "ExecuteTime": {
     "end_time": "2025-09-11T18:04:17.445154Z",
     "start_time": "2025-09-11T18:04:16.883236Z"
    }
   },
   "source": "%run lris2_csulava/magma_algorithm.py --xrange 3 --xcenter 0 --slitwidth 0.7 --ditherspace 2.5 --centerpa 0 --xsteps 1 --xstepsize 1.0 --ysteps 1 --ystepsize 1.0 --pasteps 1 --pastepsize 1.0 --min_alignment_stars 0 --star-edge-buffer 2.0 --runcop ../Mascgen\\ Folder-\\ MAGMA\\ Development\\ history/q1700.coords",
   "outputs": [
    {
     "name": "stderr",
     "output_type": "stream",
     "text": [
      "INFO:__main__:Center coordinates: RA=255.226286 Dec=64.205267 degrees\n",
      "INFO:__main__:Total iterations: 27, xsteps: 3, ysteps: 3, pasteps: 3\n",
      "INFO:__main__:*** STARTING OPTIMIZATION ***\n",
      "INFO:__main__:New optimal found at run 1, best score so far is 5700.0\n",
      "INFO:__main__:New optimal found at run 8, best score so far is 6150.0\n",
      "INFO:__main__:New optimal found at run 17, best score so far is 6150.0\n",
      "INFO:__main__:New optimal found at run 26, best score so far is 6150.0\n",
      "INFO:__main__:*** OPTIMIZATION COMPLETE ***\n",
      "INFO:__main__:Optimal solution found at run 26 with total priority 6150.0.\n",
      "INFO:__main__:Final Center: RA=255.229485, Dec=64.205545, PA=1.00\n",
      "INFO:__main__:Number of legal alignment stars: 0\n",
      "INFO:__main__:Number of targets in optimal solution: 28\n"
     ]
    },
    {
     "name": "stdout",
     "output_type": "stream",
     "text": [
      "Function 'optimize' executed in 0.4102 seconds.\n",
      "Function 'optimize' executed in 0.0055 seconds.\n",
      "Function 'optimize' executed in 0.0045 seconds.\n",
      "Function 'optimize' executed in 0.0044 seconds.\n",
      "Function 'optimize' executed in 0.0044 seconds.\n",
      "Function 'optimize' executed in 0.0043 seconds.\n",
      "Function 'optimize' executed in 0.0043 seconds.\n",
      "Function 'optimize' executed in 0.0044 seconds.\n",
      "Function 'optimize' executed in 0.0049 seconds.\n",
      "Function 'optimize' executed in 0.0042 seconds.\n",
      "Function 'optimize' executed in 0.0043 seconds.\n",
      "Function 'optimize' executed in 0.0042 seconds.\n",
      "Function 'optimize' executed in 0.0042 seconds.\n",
      "Function 'optimize' executed in 0.0042 seconds.\n",
      "Function 'optimize' executed in 0.0041 seconds.\n",
      "Function 'optimize' executed in 0.0041 seconds.\n",
      "Function 'optimize' executed in 0.0044 seconds.\n",
      "Function 'optimize' executed in 0.0048 seconds.\n",
      "Function 'optimize' executed in 0.0050 seconds.\n",
      "Function 'optimize' executed in 0.0055 seconds.\n",
      "Function 'optimize' executed in 0.0046 seconds.\n",
      "Function 'optimize' executed in 0.0041 seconds.\n",
      "Function 'optimize' executed in 0.0040 seconds.\n",
      "Function 'optimize' executed in 0.0041 seconds.\n",
      "Function 'optimize' executed in 0.0041 seconds.\n",
      "Function 'optimize' executed in 0.0041 seconds.\n",
      "Function 'optimize' executed in 0.0049 seconds.\n",
      "Script executed in 0.55 seconds.\n"
     ]
    }
   ],
   "execution_count": null
  },
  {
   "metadata": {
    "ExecuteTime": {
     "end_time": "2025-09-11T17:56:37.942927Z",
     "start_time": "2025-09-11T17:56:37.940699Z"
    }
   },
   "cell_type": "code",
   "source": "",
   "id": "a793e10dbfecd011",
   "outputs": [],
   "execution_count": null
  }
 ],
 "metadata": {
  "kernelspec": {
   "display_name": "Python 3",
   "language": "python",
   "name": "python3"
  },
  "language_info": {
   "codemirror_mode": {
    "name": "ipython",
    "version": 2
   },
   "file_extension": ".py",
   "mimetype": "text/x-python",
   "name": "python",
   "nbconvert_exporter": "python",
   "pygments_lexer": "ipython2",
   "version": "2.7.6"
  }
 },
 "nbformat": 4,
 "nbformat_minor": 5
}
